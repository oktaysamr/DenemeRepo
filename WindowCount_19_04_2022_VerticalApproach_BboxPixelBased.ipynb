{
  "nbformat": 4,
  "nbformat_minor": 0,
  "metadata": {
    "colab": {
      "name": "WindowCount_19_04_2022_VerticalApproach_BboxPixelBased",
      "provenance": [],
      "collapsed_sections": []
    },
    "kernelspec": {
      "name": "python3",
      "display_name": "Python 3"
    },
    "language_info": {
      "name": "python"
    },
    "accelerator": "GPU"
  },
  "cells": [
    {
      "cell_type": "code",
      "source": [
        "'''\n",
        "This version of code contains:\n",
        "*Window detection with detecron2 (model 7, threshold=0.5)\n",
        "*Removing overlapped window bboxes\n",
        "*getting middle 1/3 of image\n",
        "* Window counting from the number of bbox in vertical cuts\n",
        "* getting middle vertical part 1/3 of image\n",
        "→ Pixel based bbox window distance statistics\n",
        "'''"
      ],
      "metadata": {
        "id": "d1y9oSHylZqE",
        "colab": {
          "base_uri": "https://localhost:8080/",
          "height": 70
        },
        "outputId": "4590f9ab-491e-4848-f9d5-74d4fb00dffe"
      },
      "execution_count": null,
      "outputs": [
        {
          "output_type": "execute_result",
          "data": {
            "text/plain": [
              "'\\nThis version of code contains:\\n*Window detection with detecron2 (model 7, threshold=0.5)\\n*Removing overlapped window bboxes\\n*getting middle 1/3 of image\\n* Window counting from the number of bbox in vertical cuts\\n* getting middle vertical part 1/3 of image\\n→ Pixel based bbox window distance control (window filtering)\\n'"
            ],
            "application/vnd.google.colaboratory.intrinsic+json": {
              "type": "string"
            }
          },
          "metadata": {},
          "execution_count": 1
        }
      ]
    },
    {
      "cell_type": "code",
      "source": [
        "!pip install pyyaml==5.1\n",
        "\n",
        "import torch\n",
        "TORCH_VERSION = \".\".join(torch.__version__.split(\".\")[:2])\n",
        "CUDA_VERSION = torch.__version__.split(\"+\")[-1]\n",
        "print(\"torch: \", TORCH_VERSION, \"; cuda: \", CUDA_VERSION)\n",
        "# Install detectron2 that matches the above pytorch version\n",
        "# See https://detectron2.readthedocs.io/tutorials/install.html for instructions\n",
        "!pip install detectron2 -f https://dl.fbaipublicfiles.com/detectron2/wheels/$CUDA_VERSION/torch$TORCH_VERSION/index.html\n",
        "# If there is not yet a detectron2 release that matches the given torch + CUDA version, you need to install a different pytorch.\n",
        "#exit(0)  # After installation, you may need to \"restart runtime\" in Colab. This line can also restart runtime"
      ],
      "metadata": {
        "id": "lX2utq1KPFxL",
        "colab": {
          "base_uri": "https://localhost:8080/",
          "height": 1000
        },
        "outputId": "b58ccbf9-b96d-4baa-b19a-8f057511d538"
      },
      "execution_count": null,
      "outputs": [
        {
          "output_type": "stream",
          "name": "stdout",
          "text": [
            "Collecting pyyaml==5.1\n",
            "  Downloading PyYAML-5.1.tar.gz (274 kB)\n",
            "\u001b[?25l\r\u001b[K     |█▏                              | 10 kB 32.2 MB/s eta 0:00:01\r\u001b[K     |██▍                             | 20 kB 19.4 MB/s eta 0:00:01\r\u001b[K     |███▋                            | 30 kB 15.6 MB/s eta 0:00:01\r\u001b[K     |████▉                           | 40 kB 14.4 MB/s eta 0:00:01\r\u001b[K     |██████                          | 51 kB 8.0 MB/s eta 0:00:01\r\u001b[K     |███████▏                        | 61 kB 9.4 MB/s eta 0:00:01\r\u001b[K     |████████▍                       | 71 kB 9.8 MB/s eta 0:00:01\r\u001b[K     |█████████▋                      | 81 kB 9.2 MB/s eta 0:00:01\r\u001b[K     |██████████▊                     | 92 kB 10.2 MB/s eta 0:00:01\r\u001b[K     |████████████                    | 102 kB 8.9 MB/s eta 0:00:01\r\u001b[K     |█████████████▏                  | 112 kB 8.9 MB/s eta 0:00:01\r\u001b[K     |██████████████▍                 | 122 kB 8.9 MB/s eta 0:00:01\r\u001b[K     |███████████████▌                | 133 kB 8.9 MB/s eta 0:00:01\r\u001b[K     |████████████████▊               | 143 kB 8.9 MB/s eta 0:00:01\r\u001b[K     |██████████████████              | 153 kB 8.9 MB/s eta 0:00:01\r\u001b[K     |███████████████████▏            | 163 kB 8.9 MB/s eta 0:00:01\r\u001b[K     |████████████████████▎           | 174 kB 8.9 MB/s eta 0:00:01\r\u001b[K     |█████████████████████▌          | 184 kB 8.9 MB/s eta 0:00:01\r\u001b[K     |██████████████████████▊         | 194 kB 8.9 MB/s eta 0:00:01\r\u001b[K     |████████████████████████        | 204 kB 8.9 MB/s eta 0:00:01\r\u001b[K     |█████████████████████████       | 215 kB 8.9 MB/s eta 0:00:01\r\u001b[K     |██████████████████████████▎     | 225 kB 8.9 MB/s eta 0:00:01\r\u001b[K     |███████████████████████████▌    | 235 kB 8.9 MB/s eta 0:00:01\r\u001b[K     |████████████████████████████▊   | 245 kB 8.9 MB/s eta 0:00:01\r\u001b[K     |█████████████████████████████▉  | 256 kB 8.9 MB/s eta 0:00:01\r\u001b[K     |███████████████████████████████ | 266 kB 8.9 MB/s eta 0:00:01\r\u001b[K     |████████████████████████████████| 274 kB 8.9 MB/s \n",
            "\u001b[?25hBuilding wheels for collected packages: pyyaml\n",
            "  Building wheel for pyyaml (setup.py) ... \u001b[?25l\u001b[?25hdone\n",
            "  Created wheel for pyyaml: filename=PyYAML-5.1-cp37-cp37m-linux_x86_64.whl size=44092 sha256=68a8881e47687bdc309d9313bfc4b522d861754c55b5df7c2a0a320fa79f8a7a\n",
            "  Stored in directory: /root/.cache/pip/wheels/77/f5/10/d00a2bd30928b972790053b5de0c703ca87324f3fead0f2fd9\n",
            "Successfully built pyyaml\n",
            "Installing collected packages: pyyaml\n",
            "  Attempting uninstall: pyyaml\n",
            "    Found existing installation: PyYAML 3.13\n",
            "    Uninstalling PyYAML-3.13:\n",
            "      Successfully uninstalled PyYAML-3.13\n",
            "Successfully installed pyyaml-5.1\n",
            "torch:  1.10 ; cuda:  cu111\n",
            "Looking in links: https://dl.fbaipublicfiles.com/detectron2/wheels/cu111/torch1.10/index.html\n",
            "Collecting detectron2\n",
            "  Downloading https://dl.fbaipublicfiles.com/detectron2/wheels/cu111/torch1.10/detectron2-0.6%2Bcu111-cp37-cp37m-linux_x86_64.whl (7.0 MB)\n",
            "\u001b[K     |████████████████████████████████| 7.0 MB 1.6 MB/s \n",
            "\u001b[?25hRequirement already satisfied: tqdm>4.29.0 in /usr/local/lib/python3.7/dist-packages (from detectron2) (4.64.0)\n",
            "Requirement already satisfied: termcolor>=1.1 in /usr/local/lib/python3.7/dist-packages (from detectron2) (1.1.0)\n",
            "Requirement already satisfied: tabulate in /usr/local/lib/python3.7/dist-packages (from detectron2) (0.8.9)\n",
            "Requirement already satisfied: tensorboard in /usr/local/lib/python3.7/dist-packages (from detectron2) (2.8.0)\n",
            "Collecting hydra-core>=1.1\n",
            "  Downloading hydra_core-1.1.2-py3-none-any.whl (147 kB)\n",
            "\u001b[K     |████████████████████████████████| 147 kB 8.5 MB/s \n",
            "\u001b[?25hCollecting fvcore<0.1.6,>=0.1.5\n",
            "  Downloading fvcore-0.1.5.post20220414.tar.gz (50 kB)\n",
            "\u001b[K     |████████████████████████████████| 50 kB 4.1 MB/s \n",
            "\u001b[?25hRequirement already satisfied: pydot in /usr/local/lib/python3.7/dist-packages (from detectron2) (1.3.0)\n",
            "Requirement already satisfied: Pillow>=7.1 in /usr/local/lib/python3.7/dist-packages (from detectron2) (7.1.2)\n",
            "Collecting black==21.4b2\n",
            "  Downloading black-21.4b2-py3-none-any.whl (130 kB)\n",
            "\u001b[K     |████████████████████████████████| 130 kB 58.8 MB/s \n",
            "\u001b[?25hCollecting yacs>=0.1.8\n",
            "  Downloading yacs-0.1.8-py3-none-any.whl (14 kB)\n",
            "Requirement already satisfied: matplotlib in /usr/local/lib/python3.7/dist-packages (from detectron2) (3.2.2)\n",
            "Requirement already satisfied: future in /usr/local/lib/python3.7/dist-packages (from detectron2) (0.16.0)\n",
            "Collecting omegaconf>=2.1\n",
            "  Downloading omegaconf-2.1.2-py3-none-any.whl (74 kB)\n",
            "\u001b[K     |████████████████████████████████| 74 kB 4.2 MB/s \n",
            "\u001b[?25hCollecting iopath<0.1.10,>=0.1.7\n",
            "  Downloading iopath-0.1.9-py3-none-any.whl (27 kB)\n",
            "Requirement already satisfied: cloudpickle in /usr/local/lib/python3.7/dist-packages (from detectron2) (1.3.0)\n",
            "Requirement already satisfied: pycocotools>=2.0.2 in /usr/local/lib/python3.7/dist-packages (from detectron2) (2.0.4)\n",
            "Collecting regex>=2020.1.8\n",
            "  Downloading regex-2022.3.15-cp37-cp37m-manylinux_2_17_x86_64.manylinux2014_x86_64.whl (749 kB)\n",
            "\u001b[K     |████████████████████████████████| 749 kB 69.6 MB/s \n",
            "\u001b[?25hRequirement already satisfied: click>=7.1.2 in /usr/local/lib/python3.7/dist-packages (from black==21.4b2->detectron2) (7.1.2)\n",
            "Collecting toml>=0.10.1\n",
            "  Downloading toml-0.10.2-py2.py3-none-any.whl (16 kB)\n",
            "Collecting typed-ast>=1.4.2\n",
            "  Downloading typed_ast-1.5.3-cp37-cp37m-manylinux_2_5_x86_64.manylinux1_x86_64.manylinux_2_12_x86_64.manylinux2010_x86_64.whl (843 kB)\n",
            "\u001b[K     |████████████████████████████████| 843 kB 50.6 MB/s \n",
            "\u001b[?25hCollecting mypy-extensions>=0.4.3\n",
            "  Downloading mypy_extensions-0.4.3-py2.py3-none-any.whl (4.5 kB)\n",
            "Collecting pathspec<1,>=0.8.1\n",
            "  Downloading pathspec-0.9.0-py2.py3-none-any.whl (31 kB)\n",
            "Requirement already satisfied: appdirs in /usr/local/lib/python3.7/dist-packages (from black==21.4b2->detectron2) (1.4.4)\n",
            "Requirement already satisfied: typing-extensions>=3.7.4 in /usr/local/lib/python3.7/dist-packages (from black==21.4b2->detectron2) (4.1.1)\n",
            "Requirement already satisfied: numpy in /usr/local/lib/python3.7/dist-packages (from fvcore<0.1.6,>=0.1.5->detectron2) (1.21.6)\n",
            "Requirement already satisfied: pyyaml>=5.1 in /usr/local/lib/python3.7/dist-packages (from fvcore<0.1.6,>=0.1.5->detectron2) (5.1)\n",
            "Collecting importlib-resources<5.3\n",
            "  Downloading importlib_resources-5.2.3-py3-none-any.whl (27 kB)\n",
            "Collecting antlr4-python3-runtime==4.8\n",
            "  Downloading antlr4-python3-runtime-4.8.tar.gz (112 kB)\n",
            "\u001b[K     |████████████████████████████████| 112 kB 67.3 MB/s \n",
            "\u001b[?25hRequirement already satisfied: zipp>=3.1.0 in /usr/local/lib/python3.7/dist-packages (from importlib-resources<5.3->hydra-core>=1.1->detectron2) (3.8.0)\n",
            "Collecting portalocker\n",
            "  Downloading portalocker-2.4.0-py2.py3-none-any.whl (16 kB)\n",
            "Requirement already satisfied: kiwisolver>=1.0.1 in /usr/local/lib/python3.7/dist-packages (from matplotlib->detectron2) (1.4.2)\n",
            "Requirement already satisfied: cycler>=0.10 in /usr/local/lib/python3.7/dist-packages (from matplotlib->detectron2) (0.11.0)\n",
            "Requirement already satisfied: python-dateutil>=2.1 in /usr/local/lib/python3.7/dist-packages (from matplotlib->detectron2) (2.8.2)\n",
            "Requirement already satisfied: pyparsing!=2.0.4,!=2.1.2,!=2.1.6,>=2.0.1 in /usr/local/lib/python3.7/dist-packages (from matplotlib->detectron2) (3.0.8)\n",
            "Requirement already satisfied: six>=1.5 in /usr/local/lib/python3.7/dist-packages (from python-dateutil>=2.1->matplotlib->detectron2) (1.15.0)\n",
            "Requirement already satisfied: grpcio>=1.24.3 in /usr/local/lib/python3.7/dist-packages (from tensorboard->detectron2) (1.44.0)\n",
            "Requirement already satisfied: google-auth<3,>=1.6.3 in /usr/local/lib/python3.7/dist-packages (from tensorboard->detectron2) (1.35.0)\n",
            "Requirement already satisfied: protobuf>=3.6.0 in /usr/local/lib/python3.7/dist-packages (from tensorboard->detectron2) (3.17.3)\n",
            "Requirement already satisfied: wheel>=0.26 in /usr/local/lib/python3.7/dist-packages (from tensorboard->detectron2) (0.37.1)\n",
            "Requirement already satisfied: tensorboard-plugin-wit>=1.6.0 in /usr/local/lib/python3.7/dist-packages (from tensorboard->detectron2) (1.8.1)\n",
            "Requirement already satisfied: google-auth-oauthlib<0.5,>=0.4.1 in /usr/local/lib/python3.7/dist-packages (from tensorboard->detectron2) (0.4.6)\n",
            "Requirement already satisfied: tensorboard-data-server<0.7.0,>=0.6.0 in /usr/local/lib/python3.7/dist-packages (from tensorboard->detectron2) (0.6.1)\n",
            "Requirement already satisfied: markdown>=2.6.8 in /usr/local/lib/python3.7/dist-packages (from tensorboard->detectron2) (3.3.6)\n",
            "Requirement already satisfied: requests<3,>=2.21.0 in /usr/local/lib/python3.7/dist-packages (from tensorboard->detectron2) (2.23.0)\n",
            "Requirement already satisfied: absl-py>=0.4 in /usr/local/lib/python3.7/dist-packages (from tensorboard->detectron2) (1.0.0)\n",
            "Requirement already satisfied: setuptools>=41.0.0 in /usr/local/lib/python3.7/dist-packages (from tensorboard->detectron2) (57.4.0)\n",
            "Requirement already satisfied: werkzeug>=0.11.15 in /usr/local/lib/python3.7/dist-packages (from tensorboard->detectron2) (1.0.1)\n",
            "Requirement already satisfied: pyasn1-modules>=0.2.1 in /usr/local/lib/python3.7/dist-packages (from google-auth<3,>=1.6.3->tensorboard->detectron2) (0.2.8)\n",
            "Requirement already satisfied: rsa<5,>=3.1.4 in /usr/local/lib/python3.7/dist-packages (from google-auth<3,>=1.6.3->tensorboard->detectron2) (4.8)\n",
            "Requirement already satisfied: cachetools<5.0,>=2.0.0 in /usr/local/lib/python3.7/dist-packages (from google-auth<3,>=1.6.3->tensorboard->detectron2) (4.2.4)\n",
            "Requirement already satisfied: requests-oauthlib>=0.7.0 in /usr/local/lib/python3.7/dist-packages (from google-auth-oauthlib<0.5,>=0.4.1->tensorboard->detectron2) (1.3.1)\n",
            "Requirement already satisfied: importlib-metadata>=4.4 in /usr/local/lib/python3.7/dist-packages (from markdown>=2.6.8->tensorboard->detectron2) (4.11.3)\n",
            "Requirement already satisfied: pyasn1<0.5.0,>=0.4.6 in /usr/local/lib/python3.7/dist-packages (from pyasn1-modules>=0.2.1->google-auth<3,>=1.6.3->tensorboard->detectron2) (0.4.8)\n",
            "Requirement already satisfied: urllib3!=1.25.0,!=1.25.1,<1.26,>=1.21.1 in /usr/local/lib/python3.7/dist-packages (from requests<3,>=2.21.0->tensorboard->detectron2) (1.24.3)\n",
            "Requirement already satisfied: chardet<4,>=3.0.2 in /usr/local/lib/python3.7/dist-packages (from requests<3,>=2.21.0->tensorboard->detectron2) (3.0.4)\n",
            "Requirement already satisfied: certifi>=2017.4.17 in /usr/local/lib/python3.7/dist-packages (from requests<3,>=2.21.0->tensorboard->detectron2) (2021.10.8)\n",
            "Requirement already satisfied: idna<3,>=2.5 in /usr/local/lib/python3.7/dist-packages (from requests<3,>=2.21.0->tensorboard->detectron2) (2.10)\n",
            "Requirement already satisfied: oauthlib>=3.0.0 in /usr/local/lib/python3.7/dist-packages (from requests-oauthlib>=0.7.0->google-auth-oauthlib<0.5,>=0.4.1->tensorboard->detectron2) (3.2.0)\n",
            "Building wheels for collected packages: fvcore, antlr4-python3-runtime\n",
            "  Building wheel for fvcore (setup.py) ... \u001b[?25l\u001b[?25hdone\n",
            "  Created wheel for fvcore: filename=fvcore-0.1.5.post20220414-py3-none-any.whl size=61211 sha256=b282fcea91971e09ef50c621e200de6323a6e019e837d324cb68947577cf3415\n",
            "  Stored in directory: /root/.cache/pip/wheels/df/f4/b8/7b5df8b6722f4c72315ce70c31aa693e00cef6a5056149bd28\n",
            "  Building wheel for antlr4-python3-runtime (setup.py) ... \u001b[?25l\u001b[?25hdone\n",
            "  Created wheel for antlr4-python3-runtime: filename=antlr4_python3_runtime-4.8-py3-none-any.whl size=141230 sha256=8a4355e965736d07f2aa901e4a7fa0cc8c5eeb0c0d7323e611dccd98338f8fa4\n",
            "  Stored in directory: /root/.cache/pip/wheels/ca/33/b7/336836125fc9bb4ceaa4376d8abca10ca8bc84ddc824baea6c\n",
            "Successfully built fvcore antlr4-python3-runtime\n",
            "Installing collected packages: portalocker, antlr4-python3-runtime, yacs, typed-ast, toml, regex, pathspec, omegaconf, mypy-extensions, iopath, importlib-resources, hydra-core, fvcore, black, detectron2\n",
            "  Attempting uninstall: regex\n",
            "    Found existing installation: regex 2019.12.20\n",
            "    Uninstalling regex-2019.12.20:\n",
            "      Successfully uninstalled regex-2019.12.20\n",
            "  Attempting uninstall: importlib-resources\n",
            "    Found existing installation: importlib-resources 5.7.0\n",
            "    Uninstalling importlib-resources-5.7.0:\n",
            "      Successfully uninstalled importlib-resources-5.7.0\n",
            "Successfully installed antlr4-python3-runtime-4.8 black-21.4b2 detectron2-0.6+cu111 fvcore-0.1.5.post20220414 hydra-core-1.1.2 importlib-resources-5.2.3 iopath-0.1.9 mypy-extensions-0.4.3 omegaconf-2.1.2 pathspec-0.9.0 portalocker-2.4.0 regex-2022.3.15 toml-0.10.2 typed-ast-1.5.3 yacs-0.1.8\n"
          ]
        },
        {
          "output_type": "display_data",
          "data": {
            "application/vnd.colab-display-data+json": {
              "pip_warning": {
                "packages": [
                  "pydevd_plugins"
                ]
              }
            }
          },
          "metadata": {}
        }
      ]
    },
    {
      "cell_type": "code",
      "execution_count": null,
      "metadata": {
        "id": "HmRjXtbzK3SH"
      },
      "outputs": [],
      "source": [
        "import os\n",
        "import re\n",
        "import json\n",
        "import math\n",
        "import itertools\n",
        "import cv2 as cv\n",
        "import numpy as np\n",
        "import pandas as pd\n",
        "from statistics import mean, pstdev\n",
        "from collections import Counter\n",
        "from collections import namedtuple\n",
        "import matplotlib.pyplot as plt\n",
        "from sklearn.cluster import DBSCAN\n",
        "from sklearn.cluster import MeanShift\n",
        "from sklearn.cluster import AffinityPropagation"
      ]
    },
    {
      "cell_type": "code",
      "source": [
        "from detectron2.config import get_cfg\n",
        "from detectron2.engine import DefaultPredictor\n",
        "from detectron2.data import MetadataCatalog\n",
        "from detectron2.utils.visualizer import Visualizer, ColorMode\n",
        "from detectron2 import model_zoo\n",
        "import time"
      ],
      "metadata": {
        "id": "tuzsl5zKPI78"
      },
      "execution_count": null,
      "outputs": []
    },
    {
      "cell_type": "code",
      "source": [
        "from google.colab import drive\n",
        "drive.mount('/content/drive')"
      ],
      "metadata": {
        "id": "-HKjzTkUIqDl",
        "colab": {
          "base_uri": "https://localhost:8080/"
        },
        "outputId": "f7c4a051-0485-48e4-c2e4-35f785978164"
      },
      "execution_count": null,
      "outputs": [
        {
          "output_type": "stream",
          "name": "stdout",
          "text": [
            "Mounted at /content/drive\n"
          ]
        }
      ]
    },
    {
      "cell_type": "markdown",
      "source": [
        "\n",
        "\n",
        "##**Removing overlapped window bboxes**\n"
      ],
      "metadata": {
        "id": "YpGFaCwwIMHK"
      }
    },
    {
      "cell_type": "code",
      "source": [
        "def get_horizontally_cropped_img(img_path):\n",
        "  #This function crops the given picture so that the middle 1/3 of the picture remains.\n",
        "  img = cv.imread(img_path)\n",
        "  rgb = cv.cvtColor(img, cv.COLOR_BGR2RGB)\n",
        "  h=img.shape[0]\n",
        "  w=img.shape[1]\n",
        "  crop_size=int(w/3)\n",
        "  cropped_img = rgb[:, crop_size:w-crop_size]\n",
        "  return cropped_img"
      ],
      "metadata": {
        "id": "HCc9S-JzZSnx"
      },
      "execution_count": null,
      "outputs": []
    },
    {
      "cell_type": "code",
      "source": [
        "def get_cropped_img(img_path):\n",
        "  #This function crops the given picture so that the middle 1/3 of the picture remains.\n",
        "  img = cv.imread(img_path)\n",
        "  rgb = cv.cvtColor(img, cv.COLOR_BGR2RGB)\n",
        "  h=img.shape[0]\n",
        "  w=img.shape[1]\n",
        "  crop_size_x=int(w/3)\n",
        "  crop_size_y=int(h/12)\n",
        "  cropped_img_x = rgb[:, crop_size_x:w-crop_size_x]\n",
        "  cropped_img_y = cropped_img_x[4*crop_size_y:9*crop_size_y,:]\n",
        "  return cropped_img_y"
      ],
      "metadata": {
        "id": "arETKSADIJ63"
      },
      "execution_count": null,
      "outputs": []
    },
    {
      "cell_type": "code",
      "source": [
        "def make_prediction(im,model_pth):\n",
        "  start = time.time()\n",
        "  cfg = get_cfg()\n",
        "  cfg.merge_from_file(model_zoo.get_config_file(\"COCO-Detection/faster_rcnn_R_50_FPN_3x.yaml\"))\n",
        "  cfg.MODEL.WEIGHTS = model_pth # path for final model\n",
        "  cfg.MODEL.ROI_HEADS.NUM_CLASSES = 1 #class number\n",
        "  cfg.MODEL.ROI_HEADS.SCORE_THRESH_TEST = 0.5\n",
        "  predictor = DefaultPredictor(cfg)\n",
        "  #im = cv.imread(img_path)\n",
        "  outputs = predictor(im)\n",
        "  v = Visualizer(im[:, :, :],\n",
        "                #metadata=MetadataCatalog.get(cfg.DATASETS.TRAIN[0]),\n",
        "                scale=1,\n",
        "                instance_mode=ColorMode.IMAGE)\n",
        "  out = v.draw_instance_predictions(outputs[\"instances\"].to(\"cpu\"))\n",
        "  #img=cv.cvtColor(out.get_image(), cv.COLOR_BGR2RGB)\n",
        "  img=out.get_image()\n",
        "  #plt.imshow(img)\n",
        "  end = time.time()\n",
        "  print(\"Prediction time:\",end - start)\n",
        "  #x1, y1, x2, y2\n",
        "  bbox_coordinates=outputs['instances'].pred_boxes.tensor.cpu().numpy()\n",
        "  \n",
        "  \n",
        "  return bbox_coordinates ,img"
      ],
      "metadata": {
        "id": "P47YSPg9PXPo"
      },
      "execution_count": null,
      "outputs": []
    },
    {
      "cell_type": "code",
      "source": [
        "def draw_bbox_img(rgb,bbox_coordinates):\n",
        "  \n",
        "  canvas = np.copy(rgb) * 0  # creating a blank to draw lines on\n",
        "\n",
        "  [cv.rectangle(canvas, (i[0],i[1]), (i[2],i[3]), (255,255,255), 5) for i in bbox_coordinates]\n",
        "\n",
        "  #plt.imshow(canvas)\n",
        "  return canvas"
      ],
      "metadata": {
        "id": "ir3fkmlMIT3B"
      },
      "execution_count": null,
      "outputs": []
    },
    {
      "cell_type": "code",
      "source": [
        "def get_img_names(image_folder_directory):\n",
        "  # assign directory\n",
        "  directory = image_folder_directory\n",
        "  image_paths=[]\n",
        "  # iterate over files in\n",
        "  # that directory\n",
        "  for filename in os.listdir(directory):\n",
        "    f = os.path.join(directory, filename)\n",
        "    # checking if it is a file\n",
        "    if os.path.isfile(f):\n",
        "      image_paths.append(str(f))\n",
        "  return image_paths"
      ],
      "metadata": {
        "id": "tdCKqphhTjQb"
      },
      "execution_count": null,
      "outputs": []
    },
    {
      "cell_type": "code",
      "source": [
        "def get_realfloornumber(building_dataframe,image_name):\n",
        "  \n",
        "  floorinfo = building_dataframe.loc[building_dataframe['FileName']==image_name]\n",
        "  if floorinfo.empty:\n",
        "    print('Can not find real floor number')\n",
        "    return -1\n",
        "  else:\n",
        "    realfloornumber = floorinfo['Floor'].tolist()[0]\n",
        "    return realfloornumber"
      ],
      "metadata": {
        "id": "9k8uhK6omvPG"
      },
      "execution_count": null,
      "outputs": []
    },
    {
      "cell_type": "code",
      "source": [
        "def area(a, b):  # returns None if rectangles don't intersect\n",
        "    #find intersection area of rectangles a and b\n",
        "    dx = min(a.xmax, b.xmax) - max(a.xmin, b.xmin)\n",
        "    dy = min(a.ymax, b.ymax) - max(a.ymin, b.ymin)\n",
        "    if (dx>=0) and (dy>=0):\n",
        "        return dx*dy"
      ],
      "metadata": {
        "id": "SaI5ofHnSKce"
      },
      "execution_count": null,
      "outputs": []
    },
    {
      "cell_type": "code",
      "source": [
        "def remove_overlapped_bboxes(bboxes):\n",
        "  #This func removes smaller bbox if it's more than 30% overlaps with a bigger bbox\n",
        "  Rectangle = namedtuple('Rectangle', 'xmin ymin xmax ymax')\n",
        "  remove_list=[]\n",
        "  #print(\"bboxes\", type(bboxes),bboxes)\n",
        "  filtered_bboxes=bboxes.tolist()\n",
        "  #filtered_bboxes=bboxes\n",
        "  #print(\"filtered_bboxes\",filtered_bboxes)\n",
        "  for bbox_a, bbox_b in itertools.combinations(bboxes, 2):\n",
        "    a = Rectangle(bbox_a[0],bbox_a[1],bbox_a[2],bbox_a[3])\n",
        "    b = Rectangle(bbox_b[0],bbox_b[1],bbox_b[2],bbox_b[3])\n",
        "    intersection_area=area(a, b)\n",
        "    if intersection_area is not None:\n",
        "      area_a = area(a, a)\n",
        "      area_b = area(b, b)\n",
        "      if area_a > area_b and intersection_area > ( area_b*0.3):\n",
        "        #filtered_bboxes = np.delete(filtered_bboxes, np.argwhere(filtered_bboxes == bbox_b))     \n",
        "        #print(\"bbox_b\",bbox_b)   \n",
        "        try:\n",
        "          filtered_bboxes.remove([bbox_b[0],bbox_b[1],bbox_b[2],bbox_b[3]])\n",
        "        except ValueError:\n",
        "            pass\n",
        "      elif area_a < area_b and intersection_area > ( area_a*0.3):\n",
        "        #filtered_bboxes = np.delete(filtered_bboxes, np.argwhere(filtered_bboxes == bbox_a))\n",
        "        #filtered_bboxes.remove(bbox_a)\n",
        "        try:\n",
        "          filtered_bboxes.remove([bbox_a[0],bbox_a[1],bbox_a[2],bbox_a[3]])\n",
        "        except ValueError:\n",
        "            pass\n",
        "  '''\n",
        "  print(\"remove_list\",remove_list)  \n",
        "  for bbox_rec in remove_list:\n",
        "    bbox=[bbox_rec[0],bbox_rec[1],bbox_rec[2],bbox_rec[3]]\n",
        "    #[filtered_bboxes.drop(x) for x in bboxes if x.tolist() == bbox]\n",
        "    print(\"type bboxes\", type(bboxes))\n",
        "    x = [x for x in bboxes if x.tolist() == bbox]\n",
        "    filtered_bboxes = np.delete(filtered_bboxes, np.argwhere(filtered_bboxes == x))\n",
        "\n",
        "  if len(remove_list)==0:\n",
        "    filtered_bboxes=bboxes\n",
        "  '''\n",
        "  #print(\"len bbox\", len(bboxes), \"len filtered_bboxes\", len(filtered_bboxes))\n",
        "  #print(\"filtered_bboxes\",filtered_bboxes)\n",
        "  return filtered_bboxes"
      ],
      "metadata": {
        "id": "Gr7G27gpMgqe"
      },
      "execution_count": null,
      "outputs": []
    },
    {
      "cell_type": "code",
      "source": [
        "def get_intersection_coordinate(a, b):  # returns coordinates of intersection rectangle\n",
        "    #find intersection coordinates of rectangles a and b\n",
        "    xmax = min(a.xmax, b.xmax) \n",
        "    xmin = max(a.xmin, b.xmin)\n",
        "    ymax = min(a.ymax, b.ymax) \n",
        "    ymin = max(a.ymin, b.ymin)\n",
        "    coordinate = (xmin, ymin ,xmax, ymax)\n",
        "    return coordinate"
      ],
      "metadata": {
        "id": "W68PrVTMfPGX"
      },
      "execution_count": null,
      "outputs": []
    },
    {
      "cell_type": "code",
      "source": [
        "def get_bboxes_in_roi(bbox_coordinates, roi_coordinates):\n",
        "  Rectangle = namedtuple('Rectangle', 'xmin ymin xmax ymax')\n",
        "  roi_rectangle = Rectangle(roi_coordinates[0],roi_coordinates[1],roi_coordinates[2],roi_coordinates[3])\n",
        "  bboxes_in_roi=[]\n",
        "  filtered_bbox_coordinates = remove_overlapped_bboxes(bbox_coordinates)\n",
        "  for bbox in filtered_bbox_coordinates:\n",
        "    bbox_rectangle = Rectangle(bbox[0],bbox[1],bbox[2],bbox[3])\n",
        "    intersection = area(bbox_rectangle, roi_rectangle) #type change might be required\n",
        "    if intersection is not None:\n",
        "      bbox_area = area(bbox_rectangle,bbox_rectangle)\n",
        "      if intersection >= bbox_area/2:        \n",
        "        bboxes_in_roi.append(get_intersection_coordinate(bbox_rectangle, roi_rectangle))\n",
        "  return bboxes_in_roi"
      ],
      "metadata": {
        "id": "HbP_4OM_P0kD"
      },
      "execution_count": null,
      "outputs": []
    },
    {
      "cell_type": "code",
      "source": [
        "def get_bboxes_in_cut(bbox_coordinates, roi_coordinates):\n",
        "  Rectangle = namedtuple('Rectangle', 'xmin ymin xmax ymax')\n",
        "  roi_rectangle = Rectangle(roi_coordinates[0],roi_coordinates[1],roi_coordinates[2],roi_coordinates[3])\n",
        "  bboxes_in_cut=[]\n",
        "  #filtered_bbox_coordinates = remove_overlapped_bboxes(bbox_coordinates)\n",
        "  #for bbox in filtered_bbox_coordinates:\n",
        "  for bbox in bbox_coordinates:\n",
        "    bbox_rectangle = Rectangle(bbox[0],bbox[1],bbox[2],bbox[3])\n",
        "    intersection = area(bbox_rectangle, roi_rectangle) #type change might be required\n",
        "    if intersection is not None:\n",
        "      bbox_area = area(bbox_rectangle,bbox_rectangle)\n",
        "      bboxes_in_cut.append(get_intersection_coordinate(bbox_rectangle, roi_rectangle))\n",
        "  return bboxes_in_cut"
      ],
      "metadata": {
        "id": "IcchURrPZify"
      },
      "execution_count": null,
      "outputs": []
    },
    {
      "cell_type": "code",
      "source": [
        "def get_horizontally_cropped_bbox_coordinates(img, cropped_img, bbox_coordinates):\n",
        "  h=img.shape[0]\n",
        "  w=img.shape[1]\n",
        "  w_cropped=cropped_img.shape[1]\n",
        "  coordinate_shift= (w - w_cropped)/2\n",
        "  roi_coordinates = (coordinate_shift, 0 , coordinate_shift*2, h) #x1, y1, x2, y2\n",
        "  cropped_bbox_coordinates = get_bboxes_in_roi(bbox_coordinates, roi_coordinates)\n",
        "  shifted_bbox_coordinates=[]\n",
        "  for bbox in cropped_bbox_coordinates:\n",
        "    x1=int(bbox[0]-coordinate_shift)\n",
        "    x2=int(bbox[2]-coordinate_shift)\n",
        "    y1=int(bbox[1])\n",
        "    y2=int(bbox[3])\n",
        "    shifted_bbox_coordinates.append((x1,y1,x2,y2))\n",
        "  return shifted_bbox_coordinates"
      ],
      "metadata": {
        "id": "GJJdbNORZ57r"
      },
      "execution_count": null,
      "outputs": []
    },
    {
      "cell_type": "code",
      "source": [
        "def get_cropped_bbox_coordinates(img, cropped_img, bbox_coordinates):\n",
        "  h=img.shape[0]\n",
        "  w=img.shape[1]\n",
        "  w_cropped=cropped_img.shape[1]\n",
        "  h_cropped=cropped_img.shape[0]\n",
        "  coordinate_shift_x= (w - w_cropped)/2\n",
        "  coordinate_shift_y= h/12\n",
        "  roi_coordinates = (coordinate_shift_x, 4*coordinate_shift_y , coordinate_shift_x*2, 9*coordinate_shift_y) #x1, y1, x2, y2\n",
        "  cropped_bbox_coordinates = get_bboxes_in_roi(bbox_coordinates, roi_coordinates)\n",
        "  shifted_bbox_coordinates=[]\n",
        "  for bbox in cropped_bbox_coordinates:\n",
        "    x1=int(bbox[0]-coordinate_shift_x)\n",
        "    x2=int(bbox[2]-coordinate_shift_x)\n",
        "    y1=int(bbox[1]-4*coordinate_shift_y)\n",
        "    y2=int(bbox[3]-4*coordinate_shift_y)\n",
        "    shifted_bbox_coordinates.append((x1,y1,x2,y2))\n",
        "  return shifted_bbox_coordinates"
      ],
      "metadata": {
        "id": "E1JIZqyoNRjX"
      },
      "execution_count": null,
      "outputs": []
    },
    {
      "cell_type": "code",
      "source": [
        "def get_bbox_count_in_vertical_cuts(cropped_img,bbox_coordinates,cut_width=30):\n",
        "  img_height=cropped_img.shape[0]\n",
        "  img_width=cropped_img.shape[1]\n",
        "  xstart=0\n",
        "  xend=cut_width\n",
        "  cut_list=[] #xstart, ystart, xend, yend , cut coordinates\n",
        "  cut_count= int(img_width/cut_width)\n",
        "  for i in range(cut_count):\n",
        "    cut_list.append([xstart,0,xend,img_height])\n",
        "    xstart=xstart+cut_width\n",
        "    xend=xend+cut_width\n",
        "\n",
        "  floor_count_list=[] # bbox_count for each vertical cut\n",
        "  bbox_coordinates_in_cut_list = [] # bbox coordinates for each vertical cut\n",
        "  for cut in cut_list:\n",
        "    #print(\"get_bboxes_in_roi\",get_bboxes_in_roi(bbox_coordinates, cut))\n",
        "    bbox_coordinates_in_cut = get_bboxes_in_cut(bbox_coordinates, cut)\n",
        "    bbox_count_in_cut = len(bbox_coordinates_in_cut)\n",
        "    #print(\"bbox_count_in_cut\",bbox_count_in_cut)\n",
        "    floor_count_list.append(bbox_count_in_cut) \n",
        "    bbox_coordinates_in_cut_list.append(bbox_coordinates_in_cut)\n",
        "          \n",
        "  return floor_count_list, cut_list, bbox_coordinates_in_cut_list"
      ],
      "metadata": {
        "id": "zWvpVqPv7LGn"
      },
      "execution_count": null,
      "outputs": []
    },
    {
      "cell_type": "code",
      "source": [
        "def get_floor_counts(floor_count_list):\n",
        "  filtered_floor_count_list = [i for i in floor_count_list if i != 0]\n",
        "  if len(filtered_floor_count_list) > 0:\n",
        "    #print('Filtered Floor Count List= ', filtered_floor_count_list)\n",
        "    average_floor = mean(filtered_floor_count_list)\n",
        "    c = Counter(filtered_floor_count_list)  \n",
        "    mode_floor = c.most_common(1)\n",
        "    min_floor = min(filtered_floor_count_list)\n",
        "    max_floor = max(filtered_floor_count_list)\n",
        "\n",
        "    max_value_cut_index = [i for i, j in enumerate(floor_count_list) if j == max_floor]\n",
        "\n",
        "  else: \n",
        "    average_floor = -1 \n",
        "    mode_floor = -1\n",
        "    min_floor = -1\n",
        "    max_floor = -1\n",
        "    max_value_cut_index = [i for i, j in enumerate(floor_count_list) if j == max_floor]\n",
        "\n",
        "\n",
        "  return average_floor, mode_floor, min_floor, max_floor, max_value_cut_index"
      ],
      "metadata": {
        "id": "Ck9GbYAG-I5i"
      },
      "execution_count": null,
      "outputs": []
    },
    {
      "cell_type": "code",
      "source": [
        "def draw_floor_count_img(img, realfloornumber, average_floor, mode_floor, min_floor, max_floor):\n",
        "  #img = cv.imread(img_path)\n",
        "  height = img.shape[0]\n",
        "  width = img.shape[1]\n",
        "\n",
        "  canvas = 255 * np.ones([height,width,3], np.uint8)\n",
        "  font = cv.FONT_HERSHEY_SIMPLEX\n",
        "\n",
        "  text1=\"Floor Counts \"\n",
        "  start_pt1=(100,int(height/4))\n",
        "  cv.putText(canvas, text1, start_pt1, font, 3, (0, 0, 0), 5, cv.LINE_AA)\n",
        "\n",
        "  text2=\"Avg :\"+str(average_floor)\n",
        "  start_pt2=(start_pt1[0], start_pt1[1]+150)\n",
        "  cv.putText(canvas, text2, start_pt2, font, 3, (0, 0, 0), 3, cv.LINE_AA)\n",
        "\n",
        "  text3=\"Mode : \"+str(mode_floor)\n",
        "  start_pt3=(start_pt2[0], start_pt2[1]+150)\n",
        "  cv.putText(canvas, text3, start_pt3, font, 3, (0, 0, 0), 3, cv.LINE_AA)\n",
        "\n",
        "  text4=str(\"Min : \" + str(min_floor))\n",
        "  start_pt4=(start_pt3[0], start_pt3[1]+150)\n",
        "  cv.putText(canvas, text4, start_pt4, font, 3, (0, 0, 0), 3, cv.LINE_AA)\n",
        "\n",
        "  text5=str(\"Max : \" + str(max_floor))\n",
        "  start_pt5=(start_pt4[0], start_pt4[1]+150)\n",
        "  cv.putText(canvas, text5, start_pt5, font, 3, (0, 0, 0), 3, cv.LINE_AA)\n",
        "\n",
        "  return canvas\n"
      ],
      "metadata": {
        "id": "XgwWsh4FSqWx"
      },
      "execution_count": null,
      "outputs": []
    },
    {
      "cell_type": "code",
      "source": [
        "def draw_concat_img(image_name, save_folder, pred_img, cropped_img, cropped_bbox_coordinates, realfloornumber, average_floor, mode_floor, min_floor, max_floor, cut_list_both_cropped, average_distance, mode_distance, min_distance, max_distance, std_deviation):\n",
        "  img_save_name= \"concatenated\"+image_name\n",
        "  h_original=pred_img.shape[0]\n",
        "  h_cropped = cropped_img.shape[0]\n",
        "\n",
        "  cut_shift= int(h_original/3)\n",
        "\n",
        "  #Bboxes\n",
        "  bbox_img=draw_bbox_img(cropped_img, cropped_bbox_coordinates)\n",
        "  #Vertical Cut Img\n",
        "  vertical_cut_img = np.copy(cropped_img) \n",
        "  [cv.rectangle(vertical_cut_img, (i[0],i[1]+cut_shift), (i[2],i[3]+cut_shift), (255,102,0), 5) for i in cut_list_both_cropped]\n",
        "  #Floor count result IMG\n",
        "  floor_count_img = draw_floor_count_img(cropped_img, realfloornumber, average_floor, mode_floor, min_floor, max_floor)\n",
        "  #Floor statistics IMG\n",
        "  bbox_statistics_img = draw_bbox_distance_statistics_img(cropped_img, average_distance, mode_distance, min_distance, max_distance, std_deviation)\n",
        "\n",
        "  im_list = [pred_img, bbox_img, vertical_cut_img, floor_count_img,bbox_statistics_img]\n",
        "  #concatenated_img = cv.hconcat([resized, bbox_img, vertical_cut_img, floor_count_img])\n",
        "  concatenated_img = hconcat_resize_min(im_list)\n",
        "\n",
        "  cv.imwrite(save_folder+\"/\"+img_save_name, cv.cvtColor(concatenated_img, cv.COLOR_BGR2RGB))"
      ],
      "metadata": {
        "id": "C3PxzMj4HDec"
      },
      "execution_count": null,
      "outputs": []
    },
    {
      "cell_type": "code",
      "source": [
        "def hconcat_resize_min(im_list, interpolation=cv.INTER_CUBIC):\n",
        "    h_min = min(im.shape[0] for im in im_list)\n",
        "    im_list_resize = [cv.resize(im, (int(im.shape[1] * h_min / im.shape[0]), h_min), interpolation=interpolation) for im in im_list]\n",
        "    return cv.hconcat(im_list_resize)\n"
      ],
      "metadata": {
        "id": "rR3tr06L-DGe"
      },
      "execution_count": null,
      "outputs": []
    },
    {
      "cell_type": "markdown",
      "source": [
        "##**Bbox distance pattern**"
      ],
      "metadata": {
        "id": "3ZweyPfB_V9F"
      }
    },
    {
      "cell_type": "code",
      "source": [
        "def pixel_based_window_distance(bbox_coordinates_in_cut_list, max_value_cut_index):\n",
        "  #max_value_cut_index is index of cuts that contains max number of bboxes\n",
        "  y1_differences_in_cuts=[]\n",
        "  for i in max_value_cut_index:\n",
        "    sorted_coordinates = sorted(bbox_coordinates_in_cut_list[i], key=lambda x: x[1]) #sort bbox coordinates in given cut based on y1 value\n",
        "    y1_differences = [sorted_coordinates[i+1][1]-sorted_coordinates[i][1] for i in range(len(sorted_coordinates)-1)] #get difference of two consecutive element of list based on y1\n",
        "    y1_differences_in_cuts.append(y1_differences)  \n",
        "  \n",
        "  total_y1_differences_in_cuts = [item for sublist in y1_differences_in_cuts for item in sublist]\n",
        "  return total_y1_differences_in_cuts\n"
      ],
      "metadata": {
        "id": "dHmsKpwN55BD"
      },
      "execution_count": null,
      "outputs": []
    },
    {
      "cell_type": "code",
      "source": [
        "def get_bbox_distance_statistics(y1_differences):\n",
        "  if len(y1_differences) > 0:\n",
        "    #print('Filtered Floor Count List= ', filtered_floor_count_list)\n",
        "    average_distance= mean(y1_differences)\n",
        "    c = Counter(y1_differences)  \n",
        "    mode_distance = c.most_common(1)\n",
        "    min_distance = min(y1_differences)\n",
        "    max_distance = max(y1_differences)\n",
        "    std_deviation = pstdev(y1_differences)\n",
        "  else: \n",
        "    average_distance = -1 \n",
        "    mode_distance = -1\n",
        "    min_distance = -1\n",
        "    max_distance = -1\n",
        "    std_deviation = -1\n",
        "\n",
        "  return average_distance, mode_distance, min_distance, max_distance, std_deviation"
      ],
      "metadata": {
        "id": "m9pgRCO9gKJ9"
      },
      "execution_count": null,
      "outputs": []
    },
    {
      "cell_type": "code",
      "source": [
        "def draw_bbox_distance_statistics_img(img,average_distance, mode_distance, min_distance, max_distance, std_deviation):\n",
        "  #img = cv.imread(img_path)\n",
        "  height = img.shape[0]\n",
        "  width = img.shape[1]\n",
        "\n",
        "  canvas = 255 * np.ones([height,width,3], np.uint8)\n",
        "  font = cv.FONT_HERSHEY_SIMPLEX\n",
        "\n",
        "  text0=\"Bbox Dist. Stats.\"\n",
        "  start_pt0=(100,int(height/4))\n",
        "  cv.putText(canvas, text0, start_pt0, font, 3, (0, 0, 0), 5, cv.LINE_AA)\n",
        "\n",
        "  text1=\"Std dv. : \"+str(std_deviation)\n",
        "  start_pt1=(start_pt0[0], start_pt0[1]+150)\n",
        "  cv.putText(canvas, text1, start_pt1, font, 3, (0, 0, 0), 3, cv.LINE_AA)\n",
        "\n",
        "  text2=\"Avg :\"+str(average_distance)\n",
        "  start_pt2=(start_pt1[0], start_pt1[1]+150)\n",
        "  cv.putText(canvas, text2, start_pt2, font, 3, (0, 0, 0), 3, cv.LINE_AA)\n",
        "\n",
        "  text3=\"Mode : \"+str(mode_distance)\n",
        "  start_pt3=(start_pt2[0], start_pt2[1]+150)\n",
        "  cv.putText(canvas, text3, start_pt3, font, 3, (0, 0, 0), 3, cv.LINE_AA)\n",
        "\n",
        "  text4=str(\"Min : \" + str(min_distance))\n",
        "  start_pt4=(start_pt3[0], start_pt3[1]+150)\n",
        "  cv.putText(canvas, text4, start_pt4, font, 3, (0, 0, 0), 3, cv.LINE_AA)\n",
        "\n",
        "  text5=str(\"Max : \" + str(max_distance))\n",
        "  start_pt5=(start_pt4[0], start_pt4[1]+150)\n",
        "  cv.putText(canvas, text5, start_pt5, font, 3, (0, 0, 0), 3, cv.LINE_AA)\n",
        "\n",
        "  return canvas"
      ],
      "metadata": {
        "id": "TAu48nq0igw1"
      },
      "execution_count": null,
      "outputs": []
    },
    {
      "cell_type": "code",
      "source": [
        "def vertical_line_approach(model_pth, img_path, building_dataframe, save_folder):  \n",
        "  img = cv.imread(img_path)\n",
        "  img = cv.cvtColor(img, cv.COLOR_BGR2RGB)\n",
        "  image_name = img_path.split('/')[-1]\n",
        "  realfloornumber = get_realfloornumber(building_dataframe,image_name)\n",
        "\n",
        "  bbox_coordinates , pred_img = make_prediction(img, model_pth)\n",
        "\n",
        "  cropped_img = get_cropped_img(img_path) #crop both horizontally and vertically for bbox distance statistics\n",
        "  cropped_bbox_coordinates = get_cropped_bbox_coordinates(img, cropped_img, bbox_coordinates)\n",
        "\n",
        "  horizontally_cropped_img = get_horizontally_cropped_img(img_path) #crop just vertically for floor count\n",
        "  horizontally_cropped_bbox_coordinates = get_horizontally_cropped_bbox_coordinates(img, horizontally_cropped_img, bbox_coordinates)\n",
        "\n",
        "  floor_count_list, cut_list, bbox_coordinates_in_cut_list = get_bbox_count_in_vertical_cuts(horizontally_cropped_img,horizontally_cropped_bbox_coordinates,cut_width=30)\n",
        "  floor_count_list_both_cropped, cut_list_both_cropped, bbox_coordinates_in_cut_list_both_cropped = get_bbox_count_in_vertical_cuts(cropped_img,cropped_bbox_coordinates,cut_width=30)\n",
        "  average_floor, mode_floor, min_floor, max_floor, max_value_cut_index = get_floor_counts(floor_count_list)\n",
        "  average_floor_both_cropped, mode_floor_both_cropped, min_floor_both_cropped, max_floor_both_cropped, max_value_cut_index_both_cropped = get_floor_counts(floor_count_list_both_cropped)\n",
        "  y1_differences = pixel_based_window_distance(bbox_coordinates_in_cut_list_both_cropped, max_value_cut_index_both_cropped)\n",
        "  average_distance, mode_distance, min_distance, max_distance, std_deviation = get_bbox_distance_statistics(y1_differences)\n",
        "  draw_concat_img(image_name, save_folder, pred_img, horizontally_cropped_img, horizontally_cropped_bbox_coordinates,realfloornumber, average_floor, mode_floor, min_floor, max_floor, cut_list_both_cropped,average_distance, mode_distance, min_distance, max_distance, std_deviation)\n",
        "  "
      ],
      "metadata": {
        "id": "-fjzYYcF5YIJ"
      },
      "execution_count": null,
      "outputs": []
    },
    {
      "cell_type": "code",
      "source": [
        "save_folder=\"/content/drive/MyDrive/şehringözü-Depo/etiketliveri/WindowCounting/Results/Vertical_Cut_Results/20.04.2022_Bbox_distance_v2\"\n",
        "building_dataframe_pth=\"/content/drive/MyDrive/şehringözü-Depo/etiketliveri/WindowCounting/until20220224_BuildingFloorCount.xlsx\"\n",
        "image_folder=\"/content/drive/MyDrive/şehringözü-Depo/etiketliveri/WindowCounting/Images/Uskudar/clean_data_20220405\"\n",
        "model_pth=\"/content/drive/MyDrive/şehringözü-Depo/etiketliveri/Window/Output/Model7-It3000lr00025_0001/model_final.pth\"\n",
        "\n",
        "point_results=[]\n",
        "line_results=[]\n",
        "img_paths = get_img_names(image_folder)\n",
        "building_dataframe = pd.read_excel(building_dataframe_pth)\n",
        "for img_path in img_paths:\n",
        "  vertical_line_approach(model_pth, img_path, building_dataframe, save_folder)"
      ],
      "metadata": {
        "id": "VbpVrq1FNRUl",
        "colab": {
          "base_uri": "https://localhost:8080/"
        },
        "outputId": "d51f80c9-a27c-4c3b-8158-200875475edd"
      },
      "execution_count": null,
      "outputs": [
        {
          "output_type": "stream",
          "name": "stdout",
          "text": [
            "Can not find real floor number\n"
          ]
        },
        {
          "output_type": "stream",
          "name": "stderr",
          "text": [
            "/usr/local/lib/python3.7/dist-packages/detectron2/structures/image_list.py:88: UserWarning: __floordiv__ is deprecated, and its behavior will change in a future version of pytorch. It currently rounds toward 0 (like the 'trunc' function NOT 'floor'). This results in incorrect rounding for negative values. To keep the current behavior, use torch.div(a, b, rounding_mode='trunc'), or for actual floor division, use torch.div(a, b, rounding_mode='floor').\n",
            "  max_size = (max_size + (stride - 1)) // stride * stride\n"
          ]
        },
        {
          "output_type": "stream",
          "name": "stdout",
          "text": [
            "Prediction time: 2.1645092964172363\n",
            "Can not find real floor number\n",
            "Prediction time: 2.1014885902404785\n",
            "Can not find real floor number\n",
            "Prediction time: 2.0150396823883057\n",
            "Can not find real floor number\n",
            "Prediction time: 2.0694329738616943\n",
            "Can not find real floor number\n",
            "Prediction time: 2.0030457973480225\n",
            "Can not find real floor number\n",
            "Prediction time: 2.12319278717041\n",
            "Can not find real floor number\n",
            "Prediction time: 1.965383768081665\n",
            "Can not find real floor number\n",
            "Prediction time: 2.0608694553375244\n",
            "Can not find real floor number\n",
            "Prediction time: 2.041271209716797\n",
            "Can not find real floor number\n",
            "Prediction time: 1.9866669178009033\n",
            "Can not find real floor number\n",
            "Prediction time: 2.0000503063201904\n",
            "Can not find real floor number\n",
            "Prediction time: 2.1295371055603027\n",
            "Can not find real floor number\n",
            "Prediction time: 2.0190794467926025\n",
            "Can not find real floor number\n",
            "Prediction time: 2.0720832347869873\n",
            "Can not find real floor number\n",
            "Prediction time: 2.0348198413848877\n",
            "Can not find real floor number\n",
            "Prediction time: 2.066347360610962\n",
            "Can not find real floor number\n",
            "Prediction time: 2.04526424407959\n",
            "Can not find real floor number\n",
            "Prediction time: 2.1046950817108154\n",
            "Can not find real floor number\n",
            "Prediction time: 2.014531135559082\n",
            "Can not find real floor number\n",
            "Prediction time: 1.913893699645996\n",
            "Can not find real floor number\n",
            "Prediction time: 2.1313467025756836\n",
            "Can not find real floor number\n",
            "Prediction time: 2.1449248790740967\n",
            "Can not find real floor number\n",
            "Prediction time: 2.0455875396728516\n",
            "Can not find real floor number\n",
            "Prediction time: 2.1545491218566895\n",
            "Can not find real floor number\n",
            "Prediction time: 2.1136717796325684\n",
            "Can not find real floor number\n",
            "Prediction time: 2.0808424949645996\n",
            "Can not find real floor number\n",
            "Prediction time: 2.0717103481292725\n",
            "Can not find real floor number\n",
            "Prediction time: 2.0052900314331055\n",
            "Can not find real floor number\n",
            "Prediction time: 1.9540541172027588\n",
            "Can not find real floor number\n",
            "Prediction time: 2.0562617778778076\n",
            "Can not find real floor number\n",
            "Prediction time: 1.978609323501587\n",
            "Can not find real floor number\n",
            "Prediction time: 2.083974838256836\n",
            "Can not find real floor number\n",
            "Prediction time: 1.9667892456054688\n",
            "Can not find real floor number\n",
            "Prediction time: 2.0494062900543213\n",
            "Can not find real floor number\n",
            "Prediction time: 2.1344058513641357\n",
            "Can not find real floor number\n",
            "Prediction time: 2.1255829334259033\n",
            "Can not find real floor number\n",
            "Prediction time: 2.0439646244049072\n",
            "Can not find real floor number\n",
            "Prediction time: 2.0746586322784424\n"
          ]
        }
      ]
    }
  ]
}